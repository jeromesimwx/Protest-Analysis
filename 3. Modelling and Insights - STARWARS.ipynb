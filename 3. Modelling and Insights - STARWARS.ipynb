{
 "cells": [
  {
   "cell_type": "markdown",
   "id": "9f1a2fba",
   "metadata": {},
   "source": [
    "## Chapter 3's Table of Contents\n",
    "\n",
    "* [3.1 Feature Engineering](#3_1)\n",
    "* [3.2 Modelling](#3_2)\n",
    "* [3.3 Hyperparameter Tuning](#3_3)\n",
    "    * [3.3.1 Logistic Regression ](#3_3_1)\n",
    "    * [3.3.2 Decision Tree Classifier](#3_3_2)\n",
    "    * [3.3.3 Bagging x Decision Tree Classifier](#3_3_3)\n",
    "    * [3.3.4 Bagging x LR Classifier](#3_3_4)\n",
    "    * [3.3.5 ADABoost](#3_3_5)\n",
    "    * [3.3.6 SVM Classifier](#3_3_6)\n",
    "* [3.4 Model Evaluation](#3_4)\n",
    "* [3.5 Insights](#3_5)\n",
    "* [3.6 Conclusion](#3_6)"
   ]
  },
  {
   "cell_type": "code",
   "execution_count": 1,
   "id": "d915715f",
   "metadata": {},
   "outputs": [],
   "source": [
    "import pandas as pd\n",
    "import numpy as np\n",
    "\n",
    "# for modelling\n",
    "from sklearn.model_selection import train_test_split, cross_val_score\n",
    "from sklearn.preprocessing import StandardScaler\n",
    "from sklearn.metrics import accuracy_score,recall_score,precision_score,f1_score\n",
    "from sklearn.metrics import confusion_matrix\n",
    "from sklearn.linear_model import LogisticRegression\n",
    "from sklearn.metrics import confusion_matrix, roc_auc_score, plot_roc_curve, plot_confusion_matrix\n",
    "import matplotlib.pyplot as plt\n",
    "\n",
    "# for Model Tuning\n",
    "from sklearn.model_selection import GridSearchCV\n",
    "from sklearn.pipeline import Pipeline\n",
    "import warnings\n",
    "warnings.filterwarnings('ignore')\n",
    "from time import time\n",
    "from sklearn.model_selection import train_test_split, GridSearchCV\n",
    "from sklearn.linear_model import LogisticRegression\n",
    "from sklearn.pipeline import Pipeline\n",
    "from sklearn.naive_bayes import MultinomialNB\n",
    "from sklearn.metrics import confusion_matrix, roc_auc_score, plot_roc_curve, plot_confusion_matrix\n",
    "from sklearn.neighbors import KNeighborsClassifier\n",
    "from sklearn.tree import DecisionTreeClassifier\n",
    "from sklearn.svm import SVC\n",
    "from time import time\n",
    "from sklearn.ensemble import BaggingClassifier, AdaBoostClassifier, GradientBoostingClassifier, RandomForestRegressor\n",
    "\n",
    "\n",
    "pd.set_option('display.max_columns', None)\n",
    "pd.set_option('display.max_rows', None)"
   ]
  },
  {
   "cell_type": "code",
   "execution_count": 2,
   "id": "e95fa135",
   "metadata": {},
   "outputs": [],
   "source": [
    "df = pd.read_csv('../project_4b/data/protest_cleaned.csv')"
   ]
  },
  {
   "cell_type": "markdown",
   "id": "d0a17033",
   "metadata": {},
   "source": [
    "## 3.1 Feature Engineering <a class=\"anchor\" id=\"3_1\"></a>"
   ]
  },
  {
   "cell_type": "code",
   "execution_count": 3,
   "id": "24083091",
   "metadata": {},
   "outputs": [
    {
     "data": {
      "text/html": [
       "<div>\n",
       "<style scoped>\n",
       "    .dataframe tbody tr th:only-of-type {\n",
       "        vertical-align: middle;\n",
       "    }\n",
       "\n",
       "    .dataframe tbody tr th {\n",
       "        vertical-align: top;\n",
       "    }\n",
       "\n",
       "    .dataframe thead th {\n",
       "        text-align: right;\n",
       "    }\n",
       "</style>\n",
       "<table border=\"1\" class=\"dataframe\">\n",
       "  <thead>\n",
       "    <tr style=\"text-align: right;\">\n",
       "      <th></th>\n",
       "      <th>country</th>\n",
       "      <th>year</th>\n",
       "      <th>region</th>\n",
       "      <th>protestnumber</th>\n",
       "      <th>protesterviolence</th>\n",
       "      <th>participantnumber</th>\n",
       "      <th>protesteridentity</th>\n",
       "      <th>notes</th>\n",
       "      <th>startdate</th>\n",
       "      <th>enddate</th>\n",
       "      <th>protestdays</th>\n",
       "      <th>aggressive_response</th>\n",
       "      <th>labor_wage_dispute</th>\n",
       "      <th>land_farm_issue</th>\n",
       "      <th>political_behavior_process</th>\n",
       "      <th>police_brutality</th>\n",
       "      <th>price_increase_tax_policy</th>\n",
       "      <th>removal_of_politician</th>\n",
       "      <th>social_restrictions</th>\n",
       "      <th>notes_lemmatized</th>\n",
       "      <th>abortion</th>\n",
       "      <th>activists</th>\n",
       "      <th>anti_democracy</th>\n",
       "      <th>democracy</th>\n",
       "      <th>opposition</th>\n",
       "      <th>educators</th>\n",
       "      <th>environmental</th>\n",
       "      <th>human_rights</th>\n",
       "      <th>immigrants</th>\n",
       "      <th>ethnic_discrimination</th>\n",
       "      <th>lgbtq</th>\n",
       "      <th>local_residents</th>\n",
       "      <th>peasants_villagers</th>\n",
       "      <th>refugees</th>\n",
       "      <th>religion</th>\n",
       "      <th>separatist_independence</th>\n",
       "      <th>students</th>\n",
       "      <th>veterans</th>\n",
       "      <th>men</th>\n",
       "      <th>women</th>\n",
       "      <th>agriculture</th>\n",
       "      <th>white_collar</th>\n",
       "      <th>blue_collar</th>\n",
       "      <th>unemployed</th>\n",
       "      <th>youths</th>\n",
       "      <th>unspecified_protesters</th>\n",
       "    </tr>\n",
       "  </thead>\n",
       "  <tbody>\n",
       "    <tr>\n",
       "      <th>0</th>\n",
       "      <td>Canada</td>\n",
       "      <td>1990</td>\n",
       "      <td>North America</td>\n",
       "      <td>1</td>\n",
       "      <td>0</td>\n",
       "      <td>1000</td>\n",
       "      <td>protester</td>\n",
       "      <td>canada s railway passenger system was finally ...</td>\n",
       "      <td>15/1/1990</td>\n",
       "      <td>15/1/1990</td>\n",
       "      <td>1</td>\n",
       "      <td>0</td>\n",
       "      <td>1</td>\n",
       "      <td>0</td>\n",
       "      <td>1</td>\n",
       "      <td>0</td>\n",
       "      <td>0</td>\n",
       "      <td>0</td>\n",
       "      <td>0</td>\n",
       "      <td>['canada', 'railway', 'passenger', 'system', '...</td>\n",
       "      <td>0</td>\n",
       "      <td>0</td>\n",
       "      <td>0</td>\n",
       "      <td>0</td>\n",
       "      <td>0</td>\n",
       "      <td>0</td>\n",
       "      <td>0</td>\n",
       "      <td>0</td>\n",
       "      <td>0</td>\n",
       "      <td>0</td>\n",
       "      <td>0</td>\n",
       "      <td>0</td>\n",
       "      <td>0</td>\n",
       "      <td>0</td>\n",
       "      <td>0</td>\n",
       "      <td>0</td>\n",
       "      <td>0</td>\n",
       "      <td>0</td>\n",
       "      <td>0</td>\n",
       "      <td>0</td>\n",
       "      <td>0</td>\n",
       "      <td>0</td>\n",
       "      <td>0</td>\n",
       "      <td>0</td>\n",
       "      <td>0</td>\n",
       "      <td>1</td>\n",
       "    </tr>\n",
       "    <tr>\n",
       "      <th>1</th>\n",
       "      <td>Canada</td>\n",
       "      <td>1990</td>\n",
       "      <td>North America</td>\n",
       "      <td>2</td>\n",
       "      <td>0</td>\n",
       "      <td>1000</td>\n",
       "      <td>protester</td>\n",
       "      <td>protestors were only identified as young peopl...</td>\n",
       "      <td>25/6/1990</td>\n",
       "      <td>25/6/1990</td>\n",
       "      <td>1</td>\n",
       "      <td>0</td>\n",
       "      <td>0</td>\n",
       "      <td>0</td>\n",
       "      <td>1</td>\n",
       "      <td>0</td>\n",
       "      <td>0</td>\n",
       "      <td>0</td>\n",
       "      <td>0</td>\n",
       "      <td>['protestors', 'identified', 'young', 'people'...</td>\n",
       "      <td>0</td>\n",
       "      <td>0</td>\n",
       "      <td>0</td>\n",
       "      <td>0</td>\n",
       "      <td>0</td>\n",
       "      <td>0</td>\n",
       "      <td>0</td>\n",
       "      <td>0</td>\n",
       "      <td>0</td>\n",
       "      <td>0</td>\n",
       "      <td>0</td>\n",
       "      <td>0</td>\n",
       "      <td>0</td>\n",
       "      <td>0</td>\n",
       "      <td>0</td>\n",
       "      <td>0</td>\n",
       "      <td>0</td>\n",
       "      <td>0</td>\n",
       "      <td>0</td>\n",
       "      <td>0</td>\n",
       "      <td>0</td>\n",
       "      <td>0</td>\n",
       "      <td>0</td>\n",
       "      <td>0</td>\n",
       "      <td>0</td>\n",
       "      <td>1</td>\n",
       "    </tr>\n",
       "    <tr>\n",
       "      <th>2</th>\n",
       "      <td>Canada</td>\n",
       "      <td>1990</td>\n",
       "      <td>North America</td>\n",
       "      <td>3</td>\n",
       "      <td>0</td>\n",
       "      <td>500</td>\n",
       "      <td>separatist parti quebecois</td>\n",
       "      <td>the queen, after calling on canadians to remai...</td>\n",
       "      <td>1/7/1990</td>\n",
       "      <td>1/7/1990</td>\n",
       "      <td>1</td>\n",
       "      <td>0</td>\n",
       "      <td>0</td>\n",
       "      <td>0</td>\n",
       "      <td>1</td>\n",
       "      <td>0</td>\n",
       "      <td>0</td>\n",
       "      <td>0</td>\n",
       "      <td>0</td>\n",
       "      <td>['queen', 'calling', 'canadian', 'remain', 'un...</td>\n",
       "      <td>0</td>\n",
       "      <td>0</td>\n",
       "      <td>0</td>\n",
       "      <td>0</td>\n",
       "      <td>0</td>\n",
       "      <td>0</td>\n",
       "      <td>0</td>\n",
       "      <td>0</td>\n",
       "      <td>0</td>\n",
       "      <td>0</td>\n",
       "      <td>0</td>\n",
       "      <td>0</td>\n",
       "      <td>0</td>\n",
       "      <td>0</td>\n",
       "      <td>0</td>\n",
       "      <td>1</td>\n",
       "      <td>0</td>\n",
       "      <td>0</td>\n",
       "      <td>0</td>\n",
       "      <td>0</td>\n",
       "      <td>0</td>\n",
       "      <td>0</td>\n",
       "      <td>0</td>\n",
       "      <td>0</td>\n",
       "      <td>0</td>\n",
       "      <td>0</td>\n",
       "    </tr>\n",
       "    <tr>\n",
       "      <th>3</th>\n",
       "      <td>Canada</td>\n",
       "      <td>1990</td>\n",
       "      <td>North America</td>\n",
       "      <td>4</td>\n",
       "      <td>1</td>\n",
       "      <td>100</td>\n",
       "      <td>mohawk indian</td>\n",
       "      <td>canada s federal government has agreed to acqu...</td>\n",
       "      <td>12/7/1990</td>\n",
       "      <td>6/9/1990</td>\n",
       "      <td>57</td>\n",
       "      <td>0</td>\n",
       "      <td>0</td>\n",
       "      <td>1</td>\n",
       "      <td>0</td>\n",
       "      <td>0</td>\n",
       "      <td>0</td>\n",
       "      <td>0</td>\n",
       "      <td>0</td>\n",
       "      <td>['canada', 'federal', 'government', 'agreed', ...</td>\n",
       "      <td>0</td>\n",
       "      <td>0</td>\n",
       "      <td>0</td>\n",
       "      <td>0</td>\n",
       "      <td>0</td>\n",
       "      <td>0</td>\n",
       "      <td>0</td>\n",
       "      <td>0</td>\n",
       "      <td>0</td>\n",
       "      <td>1</td>\n",
       "      <td>0</td>\n",
       "      <td>0</td>\n",
       "      <td>0</td>\n",
       "      <td>0</td>\n",
       "      <td>0</td>\n",
       "      <td>0</td>\n",
       "      <td>0</td>\n",
       "      <td>0</td>\n",
       "      <td>0</td>\n",
       "      <td>0</td>\n",
       "      <td>0</td>\n",
       "      <td>0</td>\n",
       "      <td>0</td>\n",
       "      <td>0</td>\n",
       "      <td>0</td>\n",
       "      <td>0</td>\n",
       "    </tr>\n",
       "    <tr>\n",
       "      <th>4</th>\n",
       "      <td>Canada</td>\n",
       "      <td>1990</td>\n",
       "      <td>North America</td>\n",
       "      <td>5</td>\n",
       "      <td>1</td>\n",
       "      <td>950</td>\n",
       "      <td>local resident</td>\n",
       "      <td>protests were directed against the state due t...</td>\n",
       "      <td>14/8/1990</td>\n",
       "      <td>15/8/1990</td>\n",
       "      <td>2</td>\n",
       "      <td>1</td>\n",
       "      <td>0</td>\n",
       "      <td>0</td>\n",
       "      <td>1</td>\n",
       "      <td>0</td>\n",
       "      <td>0</td>\n",
       "      <td>0</td>\n",
       "      <td>0</td>\n",
       "      <td>['protest', 'directed', 'state', 'due', 'refus...</td>\n",
       "      <td>0</td>\n",
       "      <td>0</td>\n",
       "      <td>0</td>\n",
       "      <td>0</td>\n",
       "      <td>0</td>\n",
       "      <td>0</td>\n",
       "      <td>0</td>\n",
       "      <td>0</td>\n",
       "      <td>0</td>\n",
       "      <td>0</td>\n",
       "      <td>0</td>\n",
       "      <td>1</td>\n",
       "      <td>0</td>\n",
       "      <td>0</td>\n",
       "      <td>0</td>\n",
       "      <td>0</td>\n",
       "      <td>0</td>\n",
       "      <td>0</td>\n",
       "      <td>0</td>\n",
       "      <td>0</td>\n",
       "      <td>0</td>\n",
       "      <td>0</td>\n",
       "      <td>0</td>\n",
       "      <td>0</td>\n",
       "      <td>0</td>\n",
       "      <td>0</td>\n",
       "    </tr>\n",
       "  </tbody>\n",
       "</table>\n",
       "</div>"
      ],
      "text/plain": [
       "  country  year         region  protestnumber  protesterviolence  \\\n",
       "0  Canada  1990  North America              1                  0   \n",
       "1  Canada  1990  North America              2                  0   \n",
       "2  Canada  1990  North America              3                  0   \n",
       "3  Canada  1990  North America              4                  1   \n",
       "4  Canada  1990  North America              5                  1   \n",
       "\n",
       "   participantnumber           protesteridentity  \\\n",
       "0               1000                   protester   \n",
       "1               1000                   protester   \n",
       "2                500  separatist parti quebecois   \n",
       "3                100               mohawk indian   \n",
       "4                950              local resident   \n",
       "\n",
       "                                               notes  startdate    enddate  \\\n",
       "0  canada s railway passenger system was finally ...  15/1/1990  15/1/1990   \n",
       "1  protestors were only identified as young peopl...  25/6/1990  25/6/1990   \n",
       "2  the queen, after calling on canadians to remai...   1/7/1990   1/7/1990   \n",
       "3  canada s federal government has agreed to acqu...  12/7/1990   6/9/1990   \n",
       "4  protests were directed against the state due t...  14/8/1990  15/8/1990   \n",
       "\n",
       "   protestdays  aggressive_response  labor_wage_dispute  land_farm_issue  \\\n",
       "0            1                    0                   1                0   \n",
       "1            1                    0                   0                0   \n",
       "2            1                    0                   0                0   \n",
       "3           57                    0                   0                1   \n",
       "4            2                    1                   0                0   \n",
       "\n",
       "   political_behavior_process  police_brutality  price_increase_tax_policy  \\\n",
       "0                           1                 0                          0   \n",
       "1                           1                 0                          0   \n",
       "2                           1                 0                          0   \n",
       "3                           0                 0                          0   \n",
       "4                           1                 0                          0   \n",
       "\n",
       "   removal_of_politician  social_restrictions  \\\n",
       "0                      0                    0   \n",
       "1                      0                    0   \n",
       "2                      0                    0   \n",
       "3                      0                    0   \n",
       "4                      0                    0   \n",
       "\n",
       "                                    notes_lemmatized  abortion  activists  \\\n",
       "0  ['canada', 'railway', 'passenger', 'system', '...         0          0   \n",
       "1  ['protestors', 'identified', 'young', 'people'...         0          0   \n",
       "2  ['queen', 'calling', 'canadian', 'remain', 'un...         0          0   \n",
       "3  ['canada', 'federal', 'government', 'agreed', ...         0          0   \n",
       "4  ['protest', 'directed', 'state', 'due', 'refus...         0          0   \n",
       "\n",
       "   anti_democracy  democracy  opposition  educators  environmental  \\\n",
       "0               0          0           0          0              0   \n",
       "1               0          0           0          0              0   \n",
       "2               0          0           0          0              0   \n",
       "3               0          0           0          0              0   \n",
       "4               0          0           0          0              0   \n",
       "\n",
       "   human_rights  immigrants  ethnic_discrimination  lgbtq  local_residents  \\\n",
       "0             0           0                      0      0                0   \n",
       "1             0           0                      0      0                0   \n",
       "2             0           0                      0      0                0   \n",
       "3             0           0                      1      0                0   \n",
       "4             0           0                      0      0                1   \n",
       "\n",
       "   peasants_villagers  refugees  religion  separatist_independence  students  \\\n",
       "0                   0         0         0                        0         0   \n",
       "1                   0         0         0                        0         0   \n",
       "2                   0         0         0                        1         0   \n",
       "3                   0         0         0                        0         0   \n",
       "4                   0         0         0                        0         0   \n",
       "\n",
       "   veterans  men  women  agriculture  white_collar  blue_collar  unemployed  \\\n",
       "0         0    0      0            0             0            0           0   \n",
       "1         0    0      0            0             0            0           0   \n",
       "2         0    0      0            0             0            0           0   \n",
       "3         0    0      0            0             0            0           0   \n",
       "4         0    0      0            0             0            0           0   \n",
       "\n",
       "   youths  unspecified_protesters  \n",
       "0       0                       1  \n",
       "1       0                       1  \n",
       "2       0                       0  \n",
       "3       0                       0  \n",
       "4       0                       0  "
      ]
     },
     "execution_count": 3,
     "metadata": {},
     "output_type": "execute_result"
    }
   ],
   "source": [
    "df.head()"
   ]
  },
  {
   "cell_type": "code",
   "execution_count": 4,
   "id": "4739a9fb",
   "metadata": {},
   "outputs": [],
   "source": [
    "df = pd.get_dummies(df, columns = ['country'], drop_first = True)"
   ]
  },
  {
   "cell_type": "code",
   "execution_count": 6,
   "id": "05b148ad",
   "metadata": {},
   "outputs": [],
   "source": [
    "features = df.drop(columns = ['region', 'protesteridentity', 'notes','startdate', 'enddate', 'notes_lemmatized', 'aggressive_response'])"
   ]
  },
  {
   "cell_type": "markdown",
   "id": "9d4d22bf",
   "metadata": {},
   "source": [
    "## 3.2 Modelling <a class=\"anchor\" id=\"3_2\"></a>"
   ]
  },
  {
   "cell_type": "code",
   "execution_count": 47,
   "id": "34ee484c",
   "metadata": {},
   "outputs": [
    {
     "name": "stdout",
     "output_type": "stream",
     "text": [
      "Our Baseline is 0.4059977688824726\n"
     ]
    }
   ],
   "source": [
    "# First, it is important we establish a baseline\n",
    "\n",
    "baseline = df['aggressive_response'].mean()\n",
    "\n",
    "print ('Our Baseline is ' + str(baseline))"
   ]
  },
  {
   "cell_type": "code",
   "execution_count": 49,
   "id": "c3862665",
   "metadata": {},
   "outputs": [
    {
     "data": {
      "text/plain": [
       "<AxesSubplot:xlabel='aggressive_response', ylabel='count'>"
      ]
     },
     "execution_count": 49,
     "metadata": {},
     "output_type": "execute_result"
    },
    {
     "data": {
      "image/png": "[encoded data removed]",
      "text/plain": [
       "<Figure size 432x288 with 1 Axes>"
      ]
     },
     "metadata": {
      "needs_background": "light"
     },
     "output_type": "display_data"
    }
   ],
   "source": [
    "import seaborn as sb\n",
    "sb.countplot(x='aggressive_response', data=df, palette='hls')"
   ]
  },
  {
   "cell_type": "code",
   "execution_count": 7,
   "id": "4db2e6c8",
   "metadata": {},
   "outputs": [],
   "source": [
    "X = features\n",
    "y = df['aggressive_response']\n",
    "\n",
    "X_train, X_test, y_train, y_test = train_test_split(X,\n",
    "                                                    y,\n",
    "                                                    test_size=0.25,\n",
    "                                                    random_state=42,\n",
    "                                                    stratify=y)"
   ]
  },
  {
   "cell_type": "code",
   "execution_count": 8,
   "id": "9bf12209",
   "metadata": {},
   "outputs": [],
   "source": [
    "ss= StandardScaler()\n",
    "ss.fit(X_train)\n",
    "X_train = ss.transform(X_train)\n",
    "X_test = ss.transform(X_test)"
   ]
  },
  {
   "cell_type": "code",
   "execution_count": 9,
   "id": "bdbd498d",
   "metadata": {},
   "outputs": [
    {
     "name": "stdout",
     "output_type": "stream",
     "text": [
      "Accuracy score for Train data set: 0.7937702336162394\n",
      "Accuracy score for Test data set: 0.7981627296587926\n",
      "Specificity: 0.901\n",
      "Sensitivity: 0.6477\n"
     ]
    }
   ],
   "source": [
    "# Instantiate logistic regression model\n",
    "lr = LogisticRegression(solver = 'lbfgs', max_iter = 5000)\n",
    "\n",
    "# Scale\n",
    "X_train = ss.fit_transform(X_train)\n",
    "X_test = ss.transform(X_test)\n",
    "\n",
    "# Fit model to training data\n",
    "lr.fit(X_train, y_train)\n",
    "\n",
    "# Evaluate model on training data\n",
    "print('Accuracy score for Train data set:',lr.score(X_train, y_train))\n",
    "\n",
    "# Evaluate model on testing data\n",
    "print('Accuracy score for Test data set:', lr.score(X_test, y_test))\n",
    "\n",
    "preds = lr.predict(X_test)\n",
    "tn, fp, fn, tp = confusion_matrix(y_test, preds).ravel()\n",
    "\n",
    "\n",
    "print('Specificity:', round(tn / (tn + fp),4))\n",
    "print('Sensitivity:', round(tp / (tp + fn),4))"
   ]
  },
  {
   "cell_type": "code",
   "execution_count": 52,
   "id": "0bbaa131",
   "metadata": {},
   "outputs": [
    {
     "data": {
      "image/png": "[encoded data removed]",
      "text/plain": [
       "<Figure size 936x576 with 1 Axes>"
      ]
     },
     "metadata": {
      "needs_background": "light"
     },
     "output_type": "display_data"
    }
   ],
   "source": [
    "fig, ax = plt.subplots(figsize=(13, 8))\n",
    "plot_roc_curve(lr, X_test, y_test, ax = ax)\n",
    "plt.legend(prop={\"size\":20});\n",
    "plt.savefig(\"../project_4b/charts/logreg_auc.jpg\", bbox_inches = 'tight')"
   ]
  },
  {
   "cell_type": "markdown",
   "id": "5731b59f",
   "metadata": {},
   "source": [
    "## 3.3 Hyperparameter Tuning <a class=\"anchor\" id=\"3_3\"></a>"
   ]
  },
  {
   "cell_type": "markdown",
   "id": "e0bda3eb",
   "metadata": {},
   "source": [
    "### 3.3.1 Logistic Regression <a class=\"anchor\" id=\"3_3_1\"></a>"
   ]
  },
  {
   "cell_type": "code",
   "execution_count": 11,
   "id": "fadeca15",
   "metadata": {},
   "outputs": [
    {
     "name": "stdout",
     "output_type": "stream",
     "text": [
      "Best LR Parameters: Pipeline(steps=[('ss', StandardScaler()),\n",
      "                ('lr_hyper', LogisticRegression(C=0.01))])\n",
      "Fit time:  45.560s\n"
     ]
    }
   ],
   "source": [
    "lr_hyper = Pipeline([\n",
    "    ('ss', StandardScaler()),\n",
    "    ('lr_hyper', LogisticRegression())\n",
    "])\n",
    "\n",
    "pipe_params = {\n",
    "    'lr_hyper__C': [100, 10, 1.0, 0.1, 0.01],\n",
    "    'lr_hyper__intercept_scaling': [1, 1.5, 2],\n",
    "    'lr_hyper__max_iter': [100, 500, 1000]\n",
    "}\n",
    "\n",
    "gs_lr_hyper = GridSearchCV(lr_hyper, # what object are we optimizing?\n",
    "                  param_grid=pipe_params, # what parameters values are we searching?\n",
    "                  cv=5) # 5-fold cross-validation.\n",
    "\n",
    "t0 = time()\n",
    "gs_lr_hyper.fit(X_train, y_train)\n",
    "lr_hyper_test_time = time() - t0\n",
    "print('Best LR Parameters:', gs_lr_hyper.best_estimator_)\n",
    "print('Fit time:  %0.3fs' % lr_hyper_test_time);"
   ]
  },
  {
   "cell_type": "code",
   "execution_count": 12,
   "id": "16df9077",
   "metadata": {},
   "outputs": [
    {
     "name": "stdout",
     "output_type": "stream",
     "text": [
      "Best KNN Parameters: Pipeline(steps=[('ss', StandardScaler()),\n",
      "                ('knn', KNeighborsClassifier(n_neighbors=10, p=1))])\n",
      "Fit time:  65.433s\n"
     ]
    }
   ],
   "source": [
    "knn = Pipeline([\n",
    "    ('ss', StandardScaler()),\n",
    "    ('knn', KNeighborsClassifier())\n",
    "])\n",
    "\n",
    "pipe_params = {\n",
    "    'knn__n_neighbors': [10,15],\n",
    "    'knn__p': [1,2]\n",
    "}\n",
    "\n",
    "gs_knn = GridSearchCV(knn, # what object are we optimizing?\n",
    "                  param_grid=pipe_params, # what parameters values are we searching?\n",
    "                  cv=5) # 5-fold cross-validation.\n",
    "\n",
    "t0 = time()\n",
    "gs_knn.fit(X_train, y_train)\n",
    "knn_test_time = time() - t0\n",
    "print('Best KNN Parameters:', gs_knn.best_estimator_)\n",
    "print('Fit time:  %0.3fs' % knn_test_time);"
   ]
  },
  {
   "cell_type": "markdown",
   "id": "1a76e04e",
   "metadata": {},
   "source": [
    "### 3.3.2 Decision Tree Classifier <a class=\"anchor\" id=\"3_3_2\"></a>"
   ]
  },
  {
   "cell_type": "code",
   "execution_count": 13,
   "id": "b29f3364",
   "metadata": {},
   "outputs": [
    {
     "name": "stdout",
     "output_type": "stream",
     "text": [
      "Best CART Parameters: Pipeline(steps=[('ss', StandardScaler()),\n",
      "                ('cart',\n",
      "                 DecisionTreeClassifier(ccp_alpha=0.001,\n",
      "                                        min_samples_split=100))])\n",
      "Fit time:  12.217s\n"
     ]
    }
   ],
   "source": [
    "cart = Pipeline([\n",
    "    ('ss', StandardScaler()),\n",
    "    ('cart', DecisionTreeClassifier())\n",
    "])\n",
    "\n",
    "pipe_params = {\n",
    "    'cart__min_samples_split': [100 ,200, 300],\n",
    "    'cart__ccp_alpha': [0, 0.001]\n",
    "}\n",
    "\n",
    "gs_cart = GridSearchCV(cart, # what object are we optimizing?\n",
    "                  param_grid=pipe_params, # what parameters values are we searching?\n",
    "                  cv=5) # 5-fold cross-validation.\n",
    "\n",
    "t0 = time()\n",
    "gs_cart.fit(X_train, y_train)\n",
    "cart_test_time = time() - t0\n",
    "print('Best CART Parameters:', gs_cart.best_estimator_)\n",
    "print('Fit time:  %0.3fs' % cart_test_time);"
   ]
  },
  {
   "cell_type": "markdown",
   "id": "3078744b",
   "metadata": {},
   "source": [
    "### 3.3.3 Bagging x Decision Tree Classifier <a class=\"anchor\" id=\"3_3_3\"></a>"
   ]
  },
  {
   "cell_type": "code",
   "execution_count": 29,
   "id": "7f500771",
   "metadata": {},
   "outputs": [
    {
     "name": "stdout",
     "output_type": "stream",
     "text": [
      "Best BAG Parameters: Pipeline(steps=[('ss', StandardScaler()),\n",
      "                ('bag', BaggingClassifier(max_samples=0.2))])\n",
      "Fit time:  43.305s\n"
     ]
    }
   ],
   "source": [
    "# Setting pipeline for two stages\n",
    "bag_dt = Pipeline([\n",
    "    ('ss', StandardScaler()),\n",
    "    ('bag_dt', BaggingClassifier(DecisionTreeClassifier()))\n",
    "])\n",
    "\n",
    "pipe_params = {\n",
    "    'bag_dt__base_estimator' : [None, 1, 2, 3, 4, 5],\n",
    "    'bag_dt__max_features': [1.0, 2.0, 3.0, 4.0],\n",
    "    'bag_dt__max_samples' : [0.05, 0.1, 0.2, 0.5]\n",
    "}\n",
    "\n",
    "gs_bag_dt = GridSearchCV(bag_dt, # what object are we optimizing?\n",
    "                  param_grid=pipe_params, # what parameters values are we searching?\n",
    "                  cv=5) # 5-fold cross-validation.\n",
    "t0 = time()\n",
    "gs_bag_dt.fit(X_train, y_train)\n",
    "bag_test_time = time() - t0\n",
    "print('Best BAG x DT Parameters:', gs_bag_dt.best_estimator_)\n",
    "print('Fit time:  %0.3fs' % bag_test_time);"
   ]
  },
  {
   "cell_type": "markdown",
   "id": "bf431de5",
   "metadata": {},
   "source": [
    "### 3.3.4 Bagging x LR Classifier <a class=\"anchor\" id=\"3_3_4\"></a>"
   ]
  },
  {
   "cell_type": "code",
   "execution_count": 43,
   "id": "b9447b9e",
   "metadata": {},
   "outputs": [
    {
     "name": "stdout",
     "output_type": "stream",
     "text": [
      "Best BAG x LR Parameters: Pipeline(steps=[('ss', StandardScaler()),\n",
      "                ('bag_lr', BaggingClassifier(max_samples=0.5))])\n",
      "Fit time:  42.739s\n"
     ]
    }
   ],
   "source": [
    "# Setting pipeline for two stages\n",
    "bag_lr = Pipeline([\n",
    "    ('ss', StandardScaler()),\n",
    "    ('bag_lr', BaggingClassifier(LogisticRegression()))\n",
    "])\n",
    "\n",
    "pipe_params = {\n",
    "    'bag_lr__base_estimator' : [None, 1, 2, 3, 4, 5],\n",
    "    'bag_lr__max_features': [1.0, 2.0, 3.0, 4.0],\n",
    "    'bag_lr__max_samples' : [0.05, 0.1, 0.2, 0.5]\n",
    "}\n",
    "\n",
    "gs_bag_lr = GridSearchCV(bag_lr, # what object are we optimizing?\n",
    "                  param_grid=pipe_params, # what parameters values are we searching?\n",
    "                  cv=5) # 5-fold cross-validation.\n",
    "t0 = time()\n",
    "gs_bag_lr.fit(X_train, y_train)\n",
    "bag_lr_test_time = time() - t0\n",
    "print('Best BAG x LR Parameters:', gs_bag_lr.best_estimator_)\n",
    "print('Fit time:  %0.3fs' % bag_lr_test_time);"
   ]
  },
  {
   "cell_type": "markdown",
   "id": "c9301be3",
   "metadata": {},
   "source": [
    "### 3.3.5 ADABoost <a class=\"anchor\" id=\"3_3_5\"></a>"
   ]
  },
  {
   "cell_type": "code",
   "execution_count": 30,
   "id": "389271ea",
   "metadata": {},
   "outputs": [
    {
     "name": "stdout",
     "output_type": "stream",
     "text": [
      "Best ADABoost Parameters: Pipeline(steps=[('ss', StandardScaler()),\n",
      "                ('ada',\n",
      "                 AdaBoostClassifier(learning_rate=0.9, n_estimators=100))])\n",
      "Fit time:  62.535s\n"
     ]
    }
   ],
   "source": [
    "# Setting pipeline for two stages\n",
    "ada = Pipeline([\n",
    "    ('ss', StandardScaler()),\n",
    "    ('ada', AdaBoostClassifier())])\n",
    "\n",
    "pipe_params = {\n",
    "    'ada__n_estimators': [50,100],\n",
    "    'ada__learning_rate': [0.9, 1]\n",
    "}\n",
    "\n",
    "gs_ada = GridSearchCV(ada, # what object are we optimizing?\n",
    "                  param_grid=pipe_params, # what parameters values are we searching?\n",
    "                  cv=5) # 5-fold cross-validation.\n",
    "t0 = time()\n",
    "gs_ada.fit(X_train, y_train)\n",
    "ada_test_time = time() - t0\n",
    "print('Best ADABoost Parameters:', gs_ada.best_estimator_)\n",
    "print('Fit time:  %0.3fs' % ada_test_time);"
   ]
  },
  {
   "cell_type": "markdown",
   "id": "c1212e5a",
   "metadata": {},
   "source": [
    "### 3.3.6 SVM Classifier <a class=\"anchor\" id=\"3_3_6\"></a>"
   ]
  },
  {
   "cell_type": "code",
   "execution_count": 16,
   "id": "49c12622",
   "metadata": {},
   "outputs": [
    {
     "name": "stdout",
     "output_type": "stream",
     "text": [
      "Best SVC Parameters: Pipeline(steps=[('ss', StandardScaler()), ('svc', SVC(max_iter=1000))])\n",
      "Fit time:  120.424s\n"
     ]
    }
   ],
   "source": [
    "svc = Pipeline([\n",
    "    ('ss', StandardScaler()),\n",
    "    ('svc', SVC())\n",
    "])\n",
    "\n",
    "pipe_params = {\n",
    "    'svc__kernel': ['rbf'],\n",
    "    'svc__gamma': ['scale'],\n",
    "    'svc__C': [0.1, 1.0, 10.0],\n",
    "    'svc__max_iter': [100, 500, 1000]\n",
    "}\n",
    "\n",
    "gs_svc = GridSearchCV(svc, # what object are we optimizing?\n",
    "                  param_grid=pipe_params, # what parameters values are we searching?\n",
    "                  cv=5) # 5-fold cross-validation.\n",
    "\n",
    "t0 = time()\n",
    "gs_svc.fit(X_train, y_train)\n",
    "svc_test_time = time() - t0\n",
    "print('Best SVC Parameters:', gs_svc.best_estimator_)\n",
    "print('Fit time:  %0.3fs' % svc_test_time);"
   ]
  },
  {
   "cell_type": "markdown",
   "id": "54a7b7fd",
   "metadata": {},
   "source": [
    "## 3.4 Model Evaluation <a class=\"anchor\" id=\"3_4\"></a>"
   ]
  },
  {
   "cell_type": "code",
   "execution_count": 44,
   "id": "e307a0d0",
   "metadata": {},
   "outputs": [
    {
     "name": "stdout",
     "output_type": "stream",
     "text": [
      "============== Optimised LR ==============\n",
      "Accuracy score for Train data set: 0.7935\n",
      "Accuracy score for Test data set: 0.7969\n",
      "Specificity: 0.9037\n",
      "Sensitivity: 0.6406\n",
      "Specificity-Sensitivity Balance: 0.7369\n",
      "Fit Time: 45.5601\n",
      "============= Optimised KNN ==============\n",
      "Accuracy score for Train data set: 0.7854\n",
      "Accuracy score for Test data set: 0.7528\n",
      "Specificity: 0.8816\n",
      "Sensitivity: 0.5643\n",
      "Specificity-Sensitivity Balance: 0.6827\n",
      "Fit Time: 65.4331\n",
      "========= Optimised DecisionTree =========\n",
      "Accuracy score for Train data set: 0.782\n",
      "Accuracy score for Test data set: 0.79\n",
      "Specificity: 0.935\n",
      "Sensitivity: 0.5779\n",
      "Specificity-Sensitivity Balance: 0.6429\n",
      "Fit Time: 12.2166\n",
      "========= Optimised Bagging X DT =========\n",
      "Accuracy score for Train data set: 0.9165\n",
      "Accuracy score for Test data set: 0.8013\n",
      "Specificity: 0.8966\n",
      "Sensitivity: 0.6619\n",
      "Specificity-Sensitivity Balance: 0.7653\n",
      "Fit Time: 43.3052\n",
      "========== Optimised Bagging LR ==========\n",
      "Accuracy score for Train data set: 0.9058\n",
      "Accuracy score for Test data set: 0.801\n",
      "Specificity: 0.8966\n",
      "Sensitivity: 0.6613\n",
      "Specificity-Sensitivity Balance: 0.7647\n",
      "Fit Time: 42.7392\n",
      "=========== Optimised ADABoost ===========\n",
      "Accuracy score for Train data set: 0.7924\n",
      "Accuracy score for Test data set: 0.7976\n",
      "Specificity: 0.9129\n",
      "Sensitivity: 0.629\n",
      "Specificity-Sensitivity Balance: 0.716\n",
      "Fit Time: 62.5349\n",
      "============= Optimised SVM ==============\n",
      "Accuracy score for Train data set: 0.6608\n",
      "Accuracy score for Test data set: 0.6428\n",
      "Specificity: 0.6178\n",
      "Sensitivity: 0.6794\n",
      "Specificity-Sensitivity Balance: 0.9384\n",
      "Fit Time: 120.4243\n"
     ]
    }
   ],
   "source": [
    "# Optimise LR and evaluate Model\n",
    "gs_lr_hyper.fit(X_train, y_train)\n",
    "print(\" Optimised LR \".center(42, \"=\"))\n",
    "print('Accuracy score for Train data set:', round(gs_lr_hyper.score(X_train, y_train),4))\n",
    "print('Accuracy score for Test data set:', round(gs_lr_hyper.score(X_test, y_test),4))\n",
    "preds = gs_lr_hyper.predict(X_test)\n",
    "tn, fp, fn, tp = confusion_matrix(y_test, preds).ravel()\n",
    "print('Specificity:', round(tn / (tn + fp),4))\n",
    "print('Sensitivity:', round(tp / (tp + fn),4))\n",
    "print('Specificity-Sensitivity Balance:', round((1-(tn / (tn + fp))+(tp / (tp + fn))),4))\n",
    "print(f'Fit Time:', round((lr_hyper_test_time),4))\n",
    "\n",
    "\n",
    "# Optimise KNN and evaluate Model\n",
    "gs_knn.fit(X_train, y_train)\n",
    "print(\" Optimised KNN \".center(42, \"=\"))\n",
    "print('Accuracy score for Train data set:', round(gs_knn.score(X_train, y_train),4))\n",
    "print('Accuracy score for Test data set:', round(gs_knn.score(X_test, y_test),4))\n",
    "preds = gs_knn.predict(X_test)\n",
    "tn, fp, fn, tp = confusion_matrix(y_test, preds).ravel()\n",
    "print('Specificity:', round(tn / (tn + fp),4))\n",
    "print('Sensitivity:', round(tp / (tp + fn),4))\n",
    "print('Specificity-Sensitivity Balance:', round((1-(tn / (tn + fp))+(tp / (tp + fn))),4))\n",
    "print(f'Fit Time:', round((knn_test_time),4))\n",
    "\n",
    "\n",
    "# Optimise DecisionTree and evaluate Model\n",
    "gs_cart.fit(X_train, y_train)\n",
    "print(\" Optimised DecisionTree \".center(42, \"=\"))\n",
    "print('Accuracy score for Train data set:', round(gs_cart.score(X_train, y_train),4))\n",
    "print('Accuracy score for Test data set:', round(gs_cart.score(X_test, y_test),4))\n",
    "preds = gs_cart.predict(X_test)\n",
    "tn, fp, fn, tp = confusion_matrix(y_test, preds).ravel()\n",
    "print('Specificity:', round(tn / (tn + fp),4))\n",
    "print('Sensitivity:', round(tp / (tp + fn),4))\n",
    "print('Specificity-Sensitivity Balance:', round((1-(tn / (tn + fp))+(tp / (tp + fn))),4))\n",
    "print(f'Fit Time:', round((cart_test_time),4))\n",
    "\n",
    "\n",
    "# Optimise Bagging-DecisionTree and evaluate Model\n",
    "gs_bag_dt.fit(X_train, y_train)\n",
    "print(\" Optimised Bagging X DT \".center(42, \"=\"))\n",
    "print('Accuracy score for Train data set:', round(gs_bag_dt.score(X_train, y_train),4))\n",
    "print('Accuracy score for Test data set:', round(gs_bag_dt.score(X_test, y_test),4))\n",
    "preds = gs_bag_dt.predict(X_test)\n",
    "tn, fp, fn, tp = confusion_matrix(y_test, preds).ravel()\n",
    "print('Specificity:', round(tn / (tn + fp),4))\n",
    "print('Sensitivity:', round(tp / (tp + fn),4))\n",
    "print('Specificity-Sensitivity Balance:', round((1-(tn / (tn + fp))+(tp / (tp + fn))),4))\n",
    "print(f'Fit Time:', round((bag_test_time),4))\n",
    "\n",
    "\n",
    "# Optimise Bagging-LogisticRegression and evaluate Model\n",
    "gs_bag_lr.fit(X_train, y_train)\n",
    "print(\" Optimised Bagging LR \".center(42, \"=\"))\n",
    "print('Accuracy score for Train data set:', round(gs_bag_lr.score(X_train, y_train),4))\n",
    "print('Accuracy score for Test data set:', round(gs_bag_lr.score(X_test, y_test),4))\n",
    "preds = gs_bag_lr.predict(X_test)\n",
    "tn, fp, fn, tp = confusion_matrix(y_test, preds).ravel()\n",
    "print('Specificity:', round(tn / (tn + fp),4))\n",
    "print('Sensitivity:', round(tp / (tp + fn),4))\n",
    "print('Specificity-Sensitivity Balance:', round((1-(tn / (tn + fp))+(tp / (tp + fn))),4))\n",
    "print(f'Fit Time:', round((bag_lr_test_time),4))\n",
    "\n",
    "\n",
    "# Optimise ADABoost and evaluate Model\n",
    "gs_ada.fit(X_train, y_train)\n",
    "print(\" Optimised ADABoost \".center(42, \"=\"))\n",
    "print('Accuracy score for Train data set:', round(gs_ada.score(X_train, y_train),4))\n",
    "print('Accuracy score for Test data set:', round(gs_ada.score(X_test, y_test),4))\n",
    "preds = gs_ada.predict(X_test)\n",
    "tn, fp, fn, tp = confusion_matrix(y_test, preds).ravel()\n",
    "print('Specificity:', round(tn / (tn + fp),4))\n",
    "print('Sensitivity:', round(tp / (tp + fn),4))\n",
    "print('Specificity-Sensitivity Balance:', round((1-(tn / (tn + fp))+(tp / (tp + fn))),4))\n",
    "print(f'Fit Time:', round((ada_test_time),4))\n",
    "\n",
    "\n",
    "# Optimise SVM and evaluate Model\n",
    "gs_svc.fit(X_train, y_train)\n",
    "print(\" Optimised SVM \".center(42, \"=\"))\n",
    "print('Accuracy score for Train data set:', round(gs_svc.score(X_train, y_train),4))\n",
    "print('Accuracy score for Test data set:', round(gs_svc.score(X_test, y_test),4))\n",
    "preds = gs_svc.predict(X_test)\n",
    "tn, fp, fn, tp = confusion_matrix(y_test, preds).ravel()\n",
    "print('Specificity:', round(tn / (tn + fp),4))\n",
    "print('Sensitivity:', round(tp / (tp + fn),4))\n",
    "print('Specificity-Sensitivity Balance:', round((1+(tn / (tn + fp))-(tp / (tp + fn))),4))\n",
    "print(f'Fit Time:', round((svc_test_time),4))"
   ]
  },
  {
   "cell_type": "code",
   "execution_count": 53,
   "id": "abe7990b",
   "metadata": {},
   "outputs": [
    {
     "data": {
      "image/png": "[encoded data removed]",
      "text/plain": [
       "<Figure size 936x576 with 1 Axes>"
      ]
     },
     "metadata": {
      "needs_background": "light"
     },
     "output_type": "display_data"
    }
   ],
   "source": [
    "fig, ax = plt.subplots(figsize=(13, 8))\n",
    "lr_hyper_disp = plot_roc_curve(gs_lr_hyper, X_test, y_test, name = 'LR', ax = ax)\n",
    "knn_disp = plot_roc_curve(gs_knn, X_test, y_test, name = 'KNN', ax = lr_hyper_disp.ax_)\n",
    "cart_disp = plot_roc_curve(gs_cart, X_test, y_test, name = 'DT', ax = lr_hyper_disp.ax_)\n",
    "bag_disp = plot_roc_curve(gs_bag_dt, X_test, y_test, name = 'BAG x DT', ax = lr_hyper_disp.ax_)\n",
    "bag_lr_disp = plot_roc_curve(gs_bag_lr, X_test, y_test, name = 'BAG x DT', ax = lr_hyper_disp.ax_)\n",
    "ada_disp = plot_roc_curve(gs_ada, X_test, y_test, name = 'ADABoost', ax = lr_hyper_disp.ax_)\n",
    "svm_disp = plot_roc_curve(gs_svc, X_test, y_test, name = 'SVM', ax = lr_hyper_disp.ax_)\n",
    "plt.legend(prop={\"size\":20});\n",
    "plt.savefig(\"../project_4b/charts/optimised_models_auc.jpg\", bbox_inches = 'tight')"
   ]
  },
  {
   "cell_type": "markdown",
   "id": "a692c460",
   "metadata": {},
   "source": [
    "Bagging x DT and Bagging x LR seem to be performing the best. Among the two, however, while both have obvious overfitting (train accuracy is much higher than test accuracy in both), the overfitting seems to be less in Bagging x LR. Therefore, we proceed with Bagging x LR as the model we use to gain insights on our entire project."
   ]
  },
  {
   "cell_type": "markdown",
   "id": "3518f3b5",
   "metadata": {},
   "source": [
    "## 3.5 Insights <a class=\"anchor\" id=\"3_5\"></a>"
   ]
  },
  {
   "cell_type": "code",
   "execution_count": 54,
   "id": "0e2633b5",
   "metadata": {},
   "outputs": [
    {
     "data": {
      "image/png": "[encoded data removed]",
      "text/plain": [
       "<Figure size 432x288 with 1 Axes>"
      ]
     },
     "metadata": {
      "needs_background": "light"
     },
     "output_type": "display_data"
    }
   ],
   "source": [
    "bag_params = {\n",
    "    'base_estimator' : [None, 1, 2, 3, 4, 5],\n",
    "    'max_features': [1.0, 2.0, 3.0, 4.0],\n",
    "    'max_samples' : [0.05, 0.1, 0.2, 0.5]\n",
    "}\n",
    "\n",
    "bag_gs = GridSearchCV(BaggingClassifier(LogisticRegression()), bag_params, cv=5)\n",
    "bag_gs.fit(X_train, y_train)\n",
    "bag_best = bag_gs.best_estimator_\n",
    "\n",
    "importance = np.mean([\n",
    "    tree.feature_importances_ for tree in bag_gs.best_estimator_\n",
    "], axis=0)\n",
    "\n",
    "sorted_idx = importance.argsort()[-20:][::1]\n",
    "plt.barh(features.columns[sorted_idx], importance[sorted_idx])\n",
    "plt.xlabel(\"Bagging X LR Feature Importance\")\n",
    "plt.savefig(\"../project_4b/charts/bagxlr_feature.jpg\", bbox_inches = 'tight')"
   ]
  },
  {
   "cell_type": "markdown",
   "id": "e24fbf44",
   "metadata": {},
   "source": [
    "In EDA, **participant number** and **protest days** were found to not be highly correlated with aggressive government responses, however, post-modelling, we see that they are among the top 5 more important features in classifying aggressive responses. \n",
    "\n",
    "A protest's **year** being the second most important feature indicates that it is likely an important factor in determining whether a state's response is aggressive or not. Perhaps on hindsight, we should have performed timeseries analysis to check if aggressive responses follow a trend. \n",
    "\n",
    "**Protestnumber**, representing the protest the protest number in a country in a year and being an important feature indicates that it becomes more likely a protest is met with an aggressive response when it follows from prior protests in the same country in a given year.\n",
    "\n",
    "**Protest days** being an important feature indicates that it is likely that the longer a protest runs, the more likely it will face an aggressive response.\n",
    "\n",
    "**Removal_of_politician** and **political_behaviour_process** are both politics-related protester demands and represent the top 2 most important demand-related features. This indicates that amongst all the protester demands, protests seeking political change contribute most towards the likelihood of an aggressive government response."
   ]
  },
  {
   "cell_type": "markdown",
   "id": "580024a9",
   "metadata": {},
   "source": [
    "## 3.6 Conclusion <a class=\"anchor\" id=\"3_6\"></a>"
   ]
  },
  {
   "cell_type": "markdown",
   "id": "f15e37ce",
   "metadata": {},
   "source": [
    "### Recommendations ###\n",
    "Pulling back to our goal: we want to accurately predict if a given protest on the planet Earth is likely to face an aggressive state response. From feature importance analysis, it seems that the most important features are (in descending order): (i) protesterviolence, (ii) protestnumber, (iii) year, (iv) participantnumber, and (v) protestdays. In fact, protesterviolence is three times more important than protestnumber in our classification process. This means that protesterviolence is likely imperative as a contributor toward an aggressive government response. We therefore recommend that to maximise the efficiency of our preemptive interventions across the galaxy, given our bandwidth, our observers should immediately flag and escalate to the Jedi Council any protests that see its protesters employing violence.\n",
    "\n",
    "\n",
    "### Limitations ###\n",
    "1) In our data collection phase, we should collect more data from different sources in order to supplement our current findings. \n",
    "\n",
    "2)The overall highest number of protests, 10,750, belongs to the 'political_behavior_process' which is the broadest category and captures aspects of the political process that determines who rules and how, who can participate in elections or decisions, choices made by leaders that influence a range of political outcomes from domestic subsidies to foreign policy. The general category of demanding “reform” would be captured by political behavior or processes, as would demands for democratic transitions. Given its highly political nature, it's also understandable why it also results in the highest number of aggressive government responses: 1,344. The limitation is that we cannot read too deeply into it due to its very broad spectrum of issues which makes it more general than specifically being about a particular group of issues.\n",
    "\n",
    "3) From our extensive hyperparameter tuning and model experimentation, we find an unchanging inability of every optimally-tuned model to classify aggressive responses as accurately as non-aggressive responses. We believe that this problem is unresolvable as Earth's history simply has not seen an equal number of aggressive and non-aggressive responses, meaning our dataset has far more of the latter than the former.\n",
    "\n",
    "\n",
    "\n",
    "### Future Steps ###\n",
    "With social media having an enormous presence in society. A potential future step would be to scrape from Earth's most popular social media sites such as Instagram, Twitter and reddit. With access to a bigger and more recent set of data, we will be able to gain more insights that will allow us to train our model to be better at predictions. \n",
    "\n",
    "Potential future projects that we can look towards include a Machine Learning Protest Database System (PDS). This database will function as an automated system with a goal to replace the labor-intensive process of having human coders look for information about protests in news sources with a computer-aided set of protocols. This will help us to overcome the limitation from our research as our research was limited to a short time period. It can also help to overcome the problem of only having one or two news sources available. These practical limits make it difficult to know how general the results from one study will be for other issues or places or time periods.\n",
    "\n",
    "Another potential future project can be video analysis using OpenCV. With more and more data being video. For example, Tik Tok and Instagram, being able to touch on these sources will be able to provide a bigger picture of what is happening on the ground. With the OpenCV we will be able to do 3 main things: Object Detection, Object Recognition, Object Tracing.\n",
    "\n"
   ]
  },
  {
   "cell_type": "code",
   "execution_count": null,
   "id": "629df6fd",
   "metadata": {},
   "outputs": [],
   "source": []
  }
 ],
 "metadata": {
  "kernelspec": {
   "display_name": "Python 3",
   "language": "python",
   "name": "python3"
  },
  "language_info": {
   "codemirror_mode": {
    "name": "ipython",
    "version": 3
   },
   "file_extension": ".py",
   "mimetype": "text/x-python",
   "name": "python",
   "nbconvert_exporter": "python",
   "pygments_lexer": "ipython3",
   "version": "3.8.8"
  }
 },
 "nbformat": 4,
 "nbformat_minor": 5
}
